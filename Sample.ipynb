{
 "metadata": {
  "language_info": {
   "codemirror_mode": {
    "name": "ipython",
    "version": 3
   },
   "file_extension": ".py",
   "mimetype": "text/x-python",
   "name": "python",
   "nbconvert_exporter": "python",
   "pygments_lexer": "ipython3",
   "version": "3.6.9-final"
  },
  "orig_nbformat": 2,
  "kernelspec": {
   "name": "python3",
   "display_name": "Python 3"
  }
 },
 "nbformat": 4,
 "nbformat_minor": 2,
 "cells": [
  {
   "cell_type": "code",
   "execution_count": null,
   "metadata": {},
   "outputs": [],
   "source": [
    "from twstock import Stock\n",
    "stock=Stock('2330')\n",
    "stock.calc_trend()"
   ]
  },
  {
   "cell_type": "code",
   "execution_count": null,
   "metadata": {},
   "outputs": [],
   "source": [
    "import matplotlib.pyplot as plt\n",
    "import numpy as np\n",
    "\n",
    "def plot_pivots(X, wave, trend):\n",
    "    plt.xlim(0, len(X))\n",
    "    plt.ylim(X.min()*0.99, X.max()*1.01)\n",
    "    plt.plot(np.arange(len(X)), X, 'k:', alpha=0.5)\n",
    "    plt.plot(np.arange(len(X))[wave != 0], X[wave != 0], 'k-', color='b')\n",
    "    plt.plot(np.arange(len(X))[trend != 0], X[trend != 0], 'k-', color='g')\n",
    "    plt.scatter(np.arange(len(X))[trend == 3], X[trend == 3], color='g')\n",
    "    plt.scatter(np.arange(len(X))[trend == -3], X[trend == -3], color='r')\n",
    "\n",
    "plot_pivots(stock.close, stock.data.wave.values, stock.data.trend.values)"
   ]
  },
  {
   "cell_type": "code",
   "execution_count": null,
   "metadata": {},
   "outputs": [],
   "source": [
    "stock.data[['date', 'close', 'high', 'low', 'ma5', 'wave', 'trend']].to_csv('foo.csv')"
   ]
  },
  {
   "cell_type": "code",
   "execution_count": null,
   "metadata": {},
   "outputs": [],
   "source": [
    "stock.data"
   ]
  },
  {
   "cell_type": "code",
   "execution_count": null,
   "metadata": {},
   "outputs": [],
   "source": [
    "from twstock.all import All\n",
    "all = All()\n",
    "all.getAllStockParall()"
   ]
  },
  {
   "cell_type": "code",
   "execution_count": null,
   "metadata": {},
   "outputs": [],
   "source": []
  }
 ]
}